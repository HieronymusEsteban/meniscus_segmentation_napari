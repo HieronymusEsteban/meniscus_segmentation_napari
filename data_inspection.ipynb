{
 "cells": [
  {
   "cell_type": "code",
   "execution_count": 1,
   "id": "2fa3b55c",
   "metadata": {},
   "outputs": [
    {
     "name": "stderr",
     "output_type": "stream",
     "text": [
      "WARNING:root:openblas_set_num_threads not found\n"
     ]
    }
   ],
   "source": [
    "#import glob\n",
    "import matplotlib.pyplot as plt\n",
    "import numpy as np\n",
    "import os\n",
    "import pickle\n",
    "import tensorflow as tf\n",
    "import time\n",
    "from skimage import io\n",
    "from skimage.transform import resize\n",
    "from sklearn.ensemble import RandomForestClassifier\n",
    "from tensorflow.keras.applications.vgg16 import VGG16\n",
    "from tensorflow.keras.layers import Conv2D\n",
    "from tensorflow.keras.models import Sequential, Model\n",
    "from napari.layers import Image, Labels\n",
    "from csbdeep.utils import normalize\n",
    "from magicgui import magicgui\n",
    "import napari"
   ]
  },
  {
   "cell_type": "code",
   "execution_count": 2,
   "id": "41026a9b-c3c1-4987-aabb-c6158ca3ee25",
   "metadata": {},
   "outputs": [
    {
     "name": "stderr",
     "output_type": "stream",
     "text": [
      "ERROR:pydicom.pixels.utils:No module named 'pylibjpeg'\n",
      "Traceback (most recent call last):\n",
      "  File \"/Users/stephanehess/Documents/CAS_AML/venv/lib/python3.12/site-packages/pydicom/pixels/utils.py\", line 1274, in _passes_version_check\n",
      "    module = importlib.import_module(package_name, \"__version__\")\n",
      "             ^^^^^^^^^^^^^^^^^^^^^^^^^^^^^^^^^^^^^^^^^^^^^^^^^^^^\n",
      "  File \"/opt/homebrew/Cellar/python@3.12/3.12.5/Frameworks/Python.framework/Versions/3.12/lib/python3.12/importlib/__init__.py\", line 90, in import_module\n",
      "    return _bootstrap._gcd_import(name[level:], package, level)\n",
      "           ^^^^^^^^^^^^^^^^^^^^^^^^^^^^^^^^^^^^^^^^^^^^^^^^^^^^\n",
      "  File \"<frozen importlib._bootstrap>\", line 1387, in _gcd_import\n",
      "  File \"<frozen importlib._bootstrap>\", line 1360, in _find_and_load\n",
      "  File \"<frozen importlib._bootstrap>\", line 1324, in _find_and_load_unlocked\n",
      "ModuleNotFoundError: No module named 'pylibjpeg'\n",
      "ERROR:pydicom.pixels.utils:No module named 'pylibjpeg'\n",
      "Traceback (most recent call last):\n",
      "  File \"/Users/stephanehess/Documents/CAS_AML/venv/lib/python3.12/site-packages/pydicom/pixels/utils.py\", line 1274, in _passes_version_check\n",
      "    module = importlib.import_module(package_name, \"__version__\")\n",
      "             ^^^^^^^^^^^^^^^^^^^^^^^^^^^^^^^^^^^^^^^^^^^^^^^^^^^^\n",
      "  File \"/opt/homebrew/Cellar/python@3.12/3.12.5/Frameworks/Python.framework/Versions/3.12/lib/python3.12/importlib/__init__.py\", line 90, in import_module\n",
      "    return _bootstrap._gcd_import(name[level:], package, level)\n",
      "           ^^^^^^^^^^^^^^^^^^^^^^^^^^^^^^^^^^^^^^^^^^^^^^^^^^^^\n",
      "  File \"<frozen importlib._bootstrap>\", line 1387, in _gcd_import\n",
      "  File \"<frozen importlib._bootstrap>\", line 1360, in _find_and_load\n",
      "  File \"<frozen importlib._bootstrap>\", line 1324, in _find_and_load_unlocked\n",
      "ModuleNotFoundError: No module named 'pylibjpeg'\n",
      "ERROR:pydicom.pixels.utils:No module named 'pylibjpeg'\n",
      "Traceback (most recent call last):\n",
      "  File \"/Users/stephanehess/Documents/CAS_AML/venv/lib/python3.12/site-packages/pydicom/pixels/utils.py\", line 1274, in _passes_version_check\n",
      "    module = importlib.import_module(package_name, \"__version__\")\n",
      "             ^^^^^^^^^^^^^^^^^^^^^^^^^^^^^^^^^^^^^^^^^^^^^^^^^^^^\n",
      "  File \"/opt/homebrew/Cellar/python@3.12/3.12.5/Frameworks/Python.framework/Versions/3.12/lib/python3.12/importlib/__init__.py\", line 90, in import_module\n",
      "    return _bootstrap._gcd_import(name[level:], package, level)\n",
      "           ^^^^^^^^^^^^^^^^^^^^^^^^^^^^^^^^^^^^^^^^^^^^^^^^^^^^\n",
      "  File \"<frozen importlib._bootstrap>\", line 1387, in _gcd_import\n",
      "  File \"<frozen importlib._bootstrap>\", line 1360, in _find_and_load\n",
      "  File \"<frozen importlib._bootstrap>\", line 1324, in _find_and_load_unlocked\n",
      "ModuleNotFoundError: No module named 'pylibjpeg'\n",
      "ERROR:pydicom.pixels.utils:No module named 'pylibjpeg'\n",
      "Traceback (most recent call last):\n",
      "  File \"/Users/stephanehess/Documents/CAS_AML/venv/lib/python3.12/site-packages/pydicom/pixels/utils.py\", line 1274, in _passes_version_check\n",
      "    module = importlib.import_module(package_name, \"__version__\")\n",
      "             ^^^^^^^^^^^^^^^^^^^^^^^^^^^^^^^^^^^^^^^^^^^^^^^^^^^^\n",
      "  File \"/opt/homebrew/Cellar/python@3.12/3.12.5/Frameworks/Python.framework/Versions/3.12/lib/python3.12/importlib/__init__.py\", line 90, in import_module\n",
      "    return _bootstrap._gcd_import(name[level:], package, level)\n",
      "           ^^^^^^^^^^^^^^^^^^^^^^^^^^^^^^^^^^^^^^^^^^^^^^^^^^^^\n",
      "  File \"<frozen importlib._bootstrap>\", line 1387, in _gcd_import\n",
      "  File \"<frozen importlib._bootstrap>\", line 1360, in _find_and_load\n",
      "  File \"<frozen importlib._bootstrap>\", line 1324, in _find_and_load_unlocked\n",
      "ModuleNotFoundError: No module named 'pylibjpeg'\n",
      "ERROR:pydicom.pixels.utils:No module named 'pylibjpeg'\n",
      "Traceback (most recent call last):\n",
      "  File \"/Users/stephanehess/Documents/CAS_AML/venv/lib/python3.12/site-packages/pydicom/pixels/utils.py\", line 1274, in _passes_version_check\n",
      "    module = importlib.import_module(package_name, \"__version__\")\n",
      "             ^^^^^^^^^^^^^^^^^^^^^^^^^^^^^^^^^^^^^^^^^^^^^^^^^^^^\n",
      "  File \"/opt/homebrew/Cellar/python@3.12/3.12.5/Frameworks/Python.framework/Versions/3.12/lib/python3.12/importlib/__init__.py\", line 90, in import_module\n",
      "    return _bootstrap._gcd_import(name[level:], package, level)\n",
      "           ^^^^^^^^^^^^^^^^^^^^^^^^^^^^^^^^^^^^^^^^^^^^^^^^^^^^\n",
      "  File \"<frozen importlib._bootstrap>\", line 1387, in _gcd_import\n",
      "  File \"<frozen importlib._bootstrap>\", line 1360, in _find_and_load\n",
      "  File \"<frozen importlib._bootstrap>\", line 1324, in _find_and_load_unlocked\n",
      "ModuleNotFoundError: No module named 'pylibjpeg'\n",
      "ERROR:pydicom.pixels.utils:No module named 'jpeg_ls'\n",
      "Traceback (most recent call last):\n",
      "  File \"/Users/stephanehess/Documents/CAS_AML/venv/lib/python3.12/site-packages/pydicom/pixels/utils.py\", line 1274, in _passes_version_check\n",
      "    module = importlib.import_module(package_name, \"__version__\")\n",
      "             ^^^^^^^^^^^^^^^^^^^^^^^^^^^^^^^^^^^^^^^^^^^^^^^^^^^^\n",
      "  File \"/opt/homebrew/Cellar/python@3.12/3.12.5/Frameworks/Python.framework/Versions/3.12/lib/python3.12/importlib/__init__.py\", line 90, in import_module\n",
      "    return _bootstrap._gcd_import(name[level:], package, level)\n",
      "           ^^^^^^^^^^^^^^^^^^^^^^^^^^^^^^^^^^^^^^^^^^^^^^^^^^^^\n",
      "  File \"<frozen importlib._bootstrap>\", line 1387, in _gcd_import\n",
      "  File \"<frozen importlib._bootstrap>\", line 1360, in _find_and_load\n",
      "  File \"<frozen importlib._bootstrap>\", line 1324, in _find_and_load_unlocked\n",
      "ModuleNotFoundError: No module named 'jpeg_ls'\n",
      "ERROR:pydicom.pixels.utils:No module named 'pylibjpeg'\n",
      "Traceback (most recent call last):\n",
      "  File \"/Users/stephanehess/Documents/CAS_AML/venv/lib/python3.12/site-packages/pydicom/pixels/utils.py\", line 1274, in _passes_version_check\n",
      "    module = importlib.import_module(package_name, \"__version__\")\n",
      "             ^^^^^^^^^^^^^^^^^^^^^^^^^^^^^^^^^^^^^^^^^^^^^^^^^^^^\n",
      "  File \"/opt/homebrew/Cellar/python@3.12/3.12.5/Frameworks/Python.framework/Versions/3.12/lib/python3.12/importlib/__init__.py\", line 90, in import_module\n",
      "    return _bootstrap._gcd_import(name[level:], package, level)\n",
      "           ^^^^^^^^^^^^^^^^^^^^^^^^^^^^^^^^^^^^^^^^^^^^^^^^^^^^\n",
      "  File \"<frozen importlib._bootstrap>\", line 1387, in _gcd_import\n",
      "  File \"<frozen importlib._bootstrap>\", line 1360, in _find_and_load\n",
      "  File \"<frozen importlib._bootstrap>\", line 1324, in _find_and_load_unlocked\n",
      "ModuleNotFoundError: No module named 'pylibjpeg'\n",
      "ERROR:pydicom.pixels.utils:No module named 'jpeg_ls'\n",
      "Traceback (most recent call last):\n",
      "  File \"/Users/stephanehess/Documents/CAS_AML/venv/lib/python3.12/site-packages/pydicom/pixels/utils.py\", line 1274, in _passes_version_check\n",
      "    module = importlib.import_module(package_name, \"__version__\")\n",
      "             ^^^^^^^^^^^^^^^^^^^^^^^^^^^^^^^^^^^^^^^^^^^^^^^^^^^^\n",
      "  File \"/opt/homebrew/Cellar/python@3.12/3.12.5/Frameworks/Python.framework/Versions/3.12/lib/python3.12/importlib/__init__.py\", line 90, in import_module\n",
      "    return _bootstrap._gcd_import(name[level:], package, level)\n",
      "           ^^^^^^^^^^^^^^^^^^^^^^^^^^^^^^^^^^^^^^^^^^^^^^^^^^^^\n",
      "  File \"<frozen importlib._bootstrap>\", line 1387, in _gcd_import\n",
      "  File \"<frozen importlib._bootstrap>\", line 1360, in _find_and_load\n",
      "  File \"<frozen importlib._bootstrap>\", line 1324, in _find_and_load_unlocked\n",
      "ModuleNotFoundError: No module named 'jpeg_ls'\n",
      "ERROR:pydicom.pixels.utils:No module named 'pylibjpeg'\n",
      "Traceback (most recent call last):\n",
      "  File \"/Users/stephanehess/Documents/CAS_AML/venv/lib/python3.12/site-packages/pydicom/pixels/utils.py\", line 1274, in _passes_version_check\n",
      "    module = importlib.import_module(package_name, \"__version__\")\n",
      "             ^^^^^^^^^^^^^^^^^^^^^^^^^^^^^^^^^^^^^^^^^^^^^^^^^^^^\n",
      "  File \"/opt/homebrew/Cellar/python@3.12/3.12.5/Frameworks/Python.framework/Versions/3.12/lib/python3.12/importlib/__init__.py\", line 90, in import_module\n",
      "    return _bootstrap._gcd_import(name[level:], package, level)\n",
      "           ^^^^^^^^^^^^^^^^^^^^^^^^^^^^^^^^^^^^^^^^^^^^^^^^^^^^\n",
      "  File \"<frozen importlib._bootstrap>\", line 1387, in _gcd_import\n",
      "  File \"<frozen importlib._bootstrap>\", line 1360, in _find_and_load\n",
      "  File \"<frozen importlib._bootstrap>\", line 1324, in _find_and_load_unlocked\n",
      "ModuleNotFoundError: No module named 'pylibjpeg'\n",
      "ERROR:pydicom.pixels.utils:No module named 'pylibjpeg'\n",
      "Traceback (most recent call last):\n",
      "  File \"/Users/stephanehess/Documents/CAS_AML/venv/lib/python3.12/site-packages/pydicom/pixels/utils.py\", line 1274, in _passes_version_check\n",
      "    module = importlib.import_module(package_name, \"__version__\")\n",
      "             ^^^^^^^^^^^^^^^^^^^^^^^^^^^^^^^^^^^^^^^^^^^^^^^^^^^^\n",
      "  File \"/opt/homebrew/Cellar/python@3.12/3.12.5/Frameworks/Python.framework/Versions/3.12/lib/python3.12/importlib/__init__.py\", line 90, in import_module\n",
      "    return _bootstrap._gcd_import(name[level:], package, level)\n",
      "           ^^^^^^^^^^^^^^^^^^^^^^^^^^^^^^^^^^^^^^^^^^^^^^^^^^^^\n",
      "  File \"<frozen importlib._bootstrap>\", line 1387, in _gcd_import\n",
      "  File \"<frozen importlib._bootstrap>\", line 1360, in _find_and_load\n",
      "  File \"<frozen importlib._bootstrap>\", line 1324, in _find_and_load_unlocked\n",
      "ModuleNotFoundError: No module named 'pylibjpeg'\n",
      "ERROR:pydicom.pixels.utils:No module named 'pylibjpeg'\n",
      "Traceback (most recent call last):\n",
      "  File \"/Users/stephanehess/Documents/CAS_AML/venv/lib/python3.12/site-packages/pydicom/pixels/utils.py\", line 1274, in _passes_version_check\n",
      "    module = importlib.import_module(package_name, \"__version__\")\n",
      "             ^^^^^^^^^^^^^^^^^^^^^^^^^^^^^^^^^^^^^^^^^^^^^^^^^^^^\n",
      "  File \"/opt/homebrew/Cellar/python@3.12/3.12.5/Frameworks/Python.framework/Versions/3.12/lib/python3.12/importlib/__init__.py\", line 90, in import_module\n",
      "    return _bootstrap._gcd_import(name[level:], package, level)\n",
      "           ^^^^^^^^^^^^^^^^^^^^^^^^^^^^^^^^^^^^^^^^^^^^^^^^^^^^\n",
      "  File \"<frozen importlib._bootstrap>\", line 1387, in _gcd_import\n",
      "  File \"<frozen importlib._bootstrap>\", line 1360, in _find_and_load\n",
      "  File \"<frozen importlib._bootstrap>\", line 1324, in _find_and_load_unlocked\n",
      "ModuleNotFoundError: No module named 'pylibjpeg'\n",
      "ERROR:pydicom.pixels.utils:No module named 'pylibjpeg'\n",
      "Traceback (most recent call last):\n",
      "  File \"/Users/stephanehess/Documents/CAS_AML/venv/lib/python3.12/site-packages/pydicom/pixels/utils.py\", line 1274, in _passes_version_check\n",
      "    module = importlib.import_module(package_name, \"__version__\")\n",
      "             ^^^^^^^^^^^^^^^^^^^^^^^^^^^^^^^^^^^^^^^^^^^^^^^^^^^^\n",
      "  File \"/opt/homebrew/Cellar/python@3.12/3.12.5/Frameworks/Python.framework/Versions/3.12/lib/python3.12/importlib/__init__.py\", line 90, in import_module\n",
      "    return _bootstrap._gcd_import(name[level:], package, level)\n",
      "           ^^^^^^^^^^^^^^^^^^^^^^^^^^^^^^^^^^^^^^^^^^^^^^^^^^^^\n",
      "  File \"<frozen importlib._bootstrap>\", line 1387, in _gcd_import\n",
      "  File \"<frozen importlib._bootstrap>\", line 1360, in _find_and_load\n",
      "  File \"<frozen importlib._bootstrap>\", line 1324, in _find_and_load_unlocked\n",
      "ModuleNotFoundError: No module named 'pylibjpeg'\n",
      "ERROR:pydicom.pixels.utils:No module named 'pylibjpeg'\n",
      "Traceback (most recent call last):\n",
      "  File \"/Users/stephanehess/Documents/CAS_AML/venv/lib/python3.12/site-packages/pydicom/pixels/utils.py\", line 1274, in _passes_version_check\n",
      "    module = importlib.import_module(package_name, \"__version__\")\n",
      "             ^^^^^^^^^^^^^^^^^^^^^^^^^^^^^^^^^^^^^^^^^^^^^^^^^^^^\n",
      "  File \"/opt/homebrew/Cellar/python@3.12/3.12.5/Frameworks/Python.framework/Versions/3.12/lib/python3.12/importlib/__init__.py\", line 90, in import_module\n",
      "    return _bootstrap._gcd_import(name[level:], package, level)\n",
      "           ^^^^^^^^^^^^^^^^^^^^^^^^^^^^^^^^^^^^^^^^^^^^^^^^^^^^\n",
      "  File \"<frozen importlib._bootstrap>\", line 1387, in _gcd_import\n",
      "  File \"<frozen importlib._bootstrap>\", line 1360, in _find_and_load\n",
      "  File \"<frozen importlib._bootstrap>\", line 1324, in _find_and_load_unlocked\n",
      "ModuleNotFoundError: No module named 'pylibjpeg'\n",
      "ERROR:pydicom.pixels.utils:No module named 'pylibjpeg'\n",
      "Traceback (most recent call last):\n",
      "  File \"/Users/stephanehess/Documents/CAS_AML/venv/lib/python3.12/site-packages/pydicom/pixels/utils.py\", line 1274, in _passes_version_check\n",
      "    module = importlib.import_module(package_name, \"__version__\")\n",
      "             ^^^^^^^^^^^^^^^^^^^^^^^^^^^^^^^^^^^^^^^^^^^^^^^^^^^^\n",
      "  File \"/opt/homebrew/Cellar/python@3.12/3.12.5/Frameworks/Python.framework/Versions/3.12/lib/python3.12/importlib/__init__.py\", line 90, in import_module\n",
      "    return _bootstrap._gcd_import(name[level:], package, level)\n",
      "           ^^^^^^^^^^^^^^^^^^^^^^^^^^^^^^^^^^^^^^^^^^^^^^^^^^^^\n",
      "  File \"<frozen importlib._bootstrap>\", line 1387, in _gcd_import\n",
      "  File \"<frozen importlib._bootstrap>\", line 1360, in _find_and_load\n",
      "  File \"<frozen importlib._bootstrap>\", line 1324, in _find_and_load_unlocked\n",
      "ModuleNotFoundError: No module named 'pylibjpeg'\n",
      "ERROR:pydicom.pixels.utils:No module named 'pylibjpeg'\n",
      "Traceback (most recent call last):\n",
      "  File \"/Users/stephanehess/Documents/CAS_AML/venv/lib/python3.12/site-packages/pydicom/pixels/utils.py\", line 1274, in _passes_version_check\n",
      "    module = importlib.import_module(package_name, \"__version__\")\n",
      "             ^^^^^^^^^^^^^^^^^^^^^^^^^^^^^^^^^^^^^^^^^^^^^^^^^^^^\n",
      "  File \"/opt/homebrew/Cellar/python@3.12/3.12.5/Frameworks/Python.framework/Versions/3.12/lib/python3.12/importlib/__init__.py\", line 90, in import_module\n",
      "    return _bootstrap._gcd_import(name[level:], package, level)\n",
      "           ^^^^^^^^^^^^^^^^^^^^^^^^^^^^^^^^^^^^^^^^^^^^^^^^^^^^\n",
      "  File \"<frozen importlib._bootstrap>\", line 1387, in _gcd_import\n",
      "  File \"<frozen importlib._bootstrap>\", line 1360, in _find_and_load\n",
      "  File \"<frozen importlib._bootstrap>\", line 1324, in _find_and_load_unlocked\n",
      "ModuleNotFoundError: No module named 'pylibjpeg'\n",
      "ERROR:pydicom.pixels.utils:No module named 'jpeg_ls'\n",
      "Traceback (most recent call last):\n",
      "  File \"/Users/stephanehess/Documents/CAS_AML/venv/lib/python3.12/site-packages/pydicom/pixels/utils.py\", line 1274, in _passes_version_check\n",
      "    module = importlib.import_module(package_name, \"__version__\")\n",
      "             ^^^^^^^^^^^^^^^^^^^^^^^^^^^^^^^^^^^^^^^^^^^^^^^^^^^^\n",
      "  File \"/opt/homebrew/Cellar/python@3.12/3.12.5/Frameworks/Python.framework/Versions/3.12/lib/python3.12/importlib/__init__.py\", line 90, in import_module\n",
      "    return _bootstrap._gcd_import(name[level:], package, level)\n",
      "           ^^^^^^^^^^^^^^^^^^^^^^^^^^^^^^^^^^^^^^^^^^^^^^^^^^^^\n",
      "  File \"<frozen importlib._bootstrap>\", line 1387, in _gcd_import\n",
      "  File \"<frozen importlib._bootstrap>\", line 1360, in _find_and_load\n",
      "  File \"<frozen importlib._bootstrap>\", line 1324, in _find_and_load_unlocked\n",
      "ModuleNotFoundError: No module named 'jpeg_ls'\n",
      "ERROR:pydicom.pixels.utils:No module named 'jpeg_ls'\n",
      "Traceback (most recent call last):\n",
      "  File \"/Users/stephanehess/Documents/CAS_AML/venv/lib/python3.12/site-packages/pydicom/pixels/utils.py\", line 1274, in _passes_version_check\n",
      "    module = importlib.import_module(package_name, \"__version__\")\n",
      "             ^^^^^^^^^^^^^^^^^^^^^^^^^^^^^^^^^^^^^^^^^^^^^^^^^^^^\n",
      "  File \"/opt/homebrew/Cellar/python@3.12/3.12.5/Frameworks/Python.framework/Versions/3.12/lib/python3.12/importlib/__init__.py\", line 90, in import_module\n",
      "    return _bootstrap._gcd_import(name[level:], package, level)\n",
      "           ^^^^^^^^^^^^^^^^^^^^^^^^^^^^^^^^^^^^^^^^^^^^^^^^^^^^\n",
      "  File \"<frozen importlib._bootstrap>\", line 1387, in _gcd_import\n",
      "  File \"<frozen importlib._bootstrap>\", line 1360, in _find_and_load\n",
      "  File \"<frozen importlib._bootstrap>\", line 1324, in _find_and_load_unlocked\n",
      "ModuleNotFoundError: No module named 'jpeg_ls'\n",
      "ERROR:pydicom.pixels.utils:No module named 'pylibjpeg'\n",
      "Traceback (most recent call last):\n",
      "  File \"/Users/stephanehess/Documents/CAS_AML/venv/lib/python3.12/site-packages/pydicom/pixels/utils.py\", line 1274, in _passes_version_check\n",
      "    module = importlib.import_module(package_name, \"__version__\")\n",
      "             ^^^^^^^^^^^^^^^^^^^^^^^^^^^^^^^^^^^^^^^^^^^^^^^^^^^^\n",
      "  File \"/opt/homebrew/Cellar/python@3.12/3.12.5/Frameworks/Python.framework/Versions/3.12/lib/python3.12/importlib/__init__.py\", line 90, in import_module\n",
      "    return _bootstrap._gcd_import(name[level:], package, level)\n",
      "           ^^^^^^^^^^^^^^^^^^^^^^^^^^^^^^^^^^^^^^^^^^^^^^^^^^^^\n",
      "  File \"<frozen importlib._bootstrap>\", line 1387, in _gcd_import\n",
      "  File \"<frozen importlib._bootstrap>\", line 1360, in _find_and_load\n",
      "  File \"<frozen importlib._bootstrap>\", line 1324, in _find_and_load_unlocked\n",
      "ModuleNotFoundError: No module named 'pylibjpeg'\n",
      "ERROR:pydicom.pixels.utils:No module named 'pylibjpeg'\n",
      "Traceback (most recent call last):\n",
      "  File \"/Users/stephanehess/Documents/CAS_AML/venv/lib/python3.12/site-packages/pydicom/pixels/utils.py\", line 1274, in _passes_version_check\n",
      "    module = importlib.import_module(package_name, \"__version__\")\n",
      "             ^^^^^^^^^^^^^^^^^^^^^^^^^^^^^^^^^^^^^^^^^^^^^^^^^^^^\n",
      "  File \"/opt/homebrew/Cellar/python@3.12/3.12.5/Frameworks/Python.framework/Versions/3.12/lib/python3.12/importlib/__init__.py\", line 90, in import_module\n",
      "    return _bootstrap._gcd_import(name[level:], package, level)\n",
      "           ^^^^^^^^^^^^^^^^^^^^^^^^^^^^^^^^^^^^^^^^^^^^^^^^^^^^\n",
      "  File \"<frozen importlib._bootstrap>\", line 1387, in _gcd_import\n",
      "  File \"<frozen importlib._bootstrap>\", line 1360, in _find_and_load\n",
      "  File \"<frozen importlib._bootstrap>\", line 1324, in _find_and_load_unlocked\n",
      "ModuleNotFoundError: No module named 'pylibjpeg'\n"
     ]
    }
   ],
   "source": [
    "import nrrd\n",
    "import nibabel as nib\n",
    "import pandas as pd"
   ]
  },
  {
   "cell_type": "code",
   "execution_count": 3,
   "id": "9a2b47fb-7e35-43e2-9813-39589a4abd35",
   "metadata": {},
   "outputs": [
    {
     "data": {
      "text/plain": [
       "['convpaint_params.yml',\n",
       " 'notebook_M2D3_1.ipynb',\n",
       " 'output.nii.gz',\n",
       " '.DS_Store',\n",
       " 'requirements.txt',\n",
       " 'notebook_M2D2_1.ipynb',\n",
       " 'notebook_M2D3_2.ipynb',\n",
       " 'Untitled.ipynb',\n",
       " 'DIRU_2022_04_dog_03_E_nc',\n",
       " 'DIRU_2022_04_dog_03_E_30c',\n",
       " 'segmentation_transposed_tryout.png',\n",
       " 'notebook_M2D2_2.ipynb',\n",
       " 'false_segmentation.joblib',\n",
       " 'notebook_M1D3_2.ipynb',\n",
       " 'meniscus_segment_tryout.joblib',\n",
       " 'data_inspection.ipynb',\n",
       " '6-13_snake.jpg',\n",
       " 'screenshot_segmentation_tryout.jpg',\n",
       " '.ipynb_checkpoints',\n",
       " 'notebook_M1D3_1.ipynb',\n",
       " 'notebook_M1D4.ipynb',\n",
       " 'false_segmentation.png',\n",
       " 'segmentation_tryout.tif',\n",
       " 'napari_pixel_classifier_rgb.ipynb',\n",
       " 'notebook_M1D1_D2.ipynb',\n",
       " 'notebook_M2D1.ipynb']"
      ]
     },
     "execution_count": 3,
     "metadata": {},
     "output_type": "execute_result"
    }
   ],
   "source": [
    "os.listdir()"
   ]
  },
  {
   "cell_type": "markdown",
   "id": "47ebe65f-2eb8-44a4-b315-2b62f86363eb",
   "metadata": {},
   "source": [
    "### Load data:"
   ]
  },
  {
   "cell_type": "code",
   "execution_count": 7,
   "id": "ee986e6c-315b-4abe-af1b-dcb5ad2c26e9",
   "metadata": {},
   "outputs": [],
   "source": [
    "file_path = 'DIRU_2022_04_dog_03_E_nc/medialis/03_E_nc_med_Segmentation.seg.nrrd'\n",
    "#file_path = 'DIRU_2022_04_dog_03_E_30c/medialis/03_E_30c_med_Segmentation.seg.nrrd'"
   ]
  },
  {
   "cell_type": "code",
   "execution_count": 8,
   "id": "a4095f36-2484-42a6-a806-53cc0957e404",
   "metadata": {},
   "outputs": [],
   "source": [
    "# Load the NRRD file\n",
    "data, header = nrrd.read(file_path)\n",
    "\n",
    "# Create a NIfTI image\n",
    "img = nib.Nifti1Image(data, np.eye(4))\n",
    "\n",
    "# Save the image in NIfTI format\n",
    "nib.save(img, 'output.nii.gz')"
   ]
  },
  {
   "cell_type": "code",
   "execution_count": 9,
   "id": "484ece22-a52a-4907-bc55-9f15e5f5bb9d",
   "metadata": {},
   "outputs": [],
   "source": [
    "data = img.get_fdata()"
   ]
  },
  {
   "cell_type": "code",
   "execution_count": 10,
   "id": "eee4b483-493c-453e-a289-0fb4d547475e",
   "metadata": {},
   "outputs": [
    {
     "data": {
      "text/plain": [
       "(4, 560, 560, 484)"
      ]
     },
     "execution_count": 10,
     "metadata": {},
     "output_type": "execute_result"
    }
   ],
   "source": [
    "data.shape"
   ]
  },
  {
   "cell_type": "markdown",
   "id": "3cc2bbd0-cbc9-4a68-849b-45532d4514e8",
   "metadata": {},
   "source": [
    "### It turns out channel 0 is the one that has meniscus as well as background signal:"
   ]
  },
  {
   "cell_type": "code",
   "execution_count": null,
   "id": "e368faab-1ef0-446c-a21e-ba3c90ee7dfc",
   "metadata": {},
   "outputs": [],
   "source": []
  },
  {
   "cell_type": "code",
   "execution_count": 11,
   "id": "21998c82-0181-4b34-9a7b-5cf539d4c4f7",
   "metadata": {},
   "outputs": [],
   "source": [
    "data_ex = data[0, :, :, :]\n",
    "#data_ex = data[ :, :, :]"
   ]
  },
  {
   "cell_type": "code",
   "execution_count": 12,
   "id": "e39d7b45-e695-47d7-bc10-9be3c6372b4b",
   "metadata": {},
   "outputs": [
    {
     "data": {
      "text/plain": [
       "(560, 560, 484)"
      ]
     },
     "execution_count": 12,
     "metadata": {},
     "output_type": "execute_result"
    }
   ],
   "source": [
    "data_ex.shape"
   ]
  },
  {
   "cell_type": "markdown",
   "id": "fb2d004d-5427-4766-9f27-742287c59c4f",
   "metadata": {},
   "source": [
    "### Find slices where signal is visible:"
   ]
  },
  {
   "cell_type": "code",
   "execution_count": 13,
   "id": "526decdd-9d92-4945-a7a6-7f57bd94df62",
   "metadata": {},
   "outputs": [
    {
     "data": {
      "text/html": [
       "<div>\n",
       "<style scoped>\n",
       "    .dataframe tbody tr th:only-of-type {\n",
       "        vertical-align: middle;\n",
       "    }\n",
       "\n",
       "    .dataframe tbody tr th {\n",
       "        vertical-align: top;\n",
       "    }\n",
       "\n",
       "    .dataframe thead th {\n",
       "        text-align: right;\n",
       "    }\n",
       "</style>\n",
       "<table border=\"1\" class=\"dataframe\">\n",
       "  <thead>\n",
       "    <tr style=\"text-align: right;\">\n",
       "      <th></th>\n",
       "      <th>index_value</th>\n",
       "      <th>maximum</th>\n",
       "      <th>pixel_sum</th>\n",
       "    </tr>\n",
       "  </thead>\n",
       "  <tbody>\n",
       "    <tr>\n",
       "      <th>0</th>\n",
       "      <td>138</td>\n",
       "      <td>2.0</td>\n",
       "      <td>18.0</td>\n",
       "    </tr>\n",
       "    <tr>\n",
       "      <th>1</th>\n",
       "      <td>139</td>\n",
       "      <td>2.0</td>\n",
       "      <td>22.0</td>\n",
       "    </tr>\n",
       "    <tr>\n",
       "      <th>2</th>\n",
       "      <td>140</td>\n",
       "      <td>2.0</td>\n",
       "      <td>26.0</td>\n",
       "    </tr>\n",
       "    <tr>\n",
       "      <th>3</th>\n",
       "      <td>141</td>\n",
       "      <td>2.0</td>\n",
       "      <td>30.0</td>\n",
       "    </tr>\n",
       "    <tr>\n",
       "      <th>4</th>\n",
       "      <td>142</td>\n",
       "      <td>2.0</td>\n",
       "      <td>34.0</td>\n",
       "    </tr>\n",
       "  </tbody>\n",
       "</table>\n",
       "</div>"
      ],
      "text/plain": [
       "   index_value  maximum  pixel_sum\n",
       "0          138      2.0       18.0\n",
       "1          139      2.0       22.0\n",
       "2          140      2.0       26.0\n",
       "3          141      2.0       30.0\n",
       "4          142      2.0       34.0"
      ]
     },
     "execution_count": 13,
     "metadata": {},
     "output_type": "execute_result"
    }
   ],
   "source": [
    "indices = []\n",
    "max_vals = []\n",
    "sum_vals = []\n",
    "# Loop through dimension \n",
    "for ix in range(0, data_ex.shape[0]):\n",
    "# Get maximum pixel value: \n",
    "    max_val = np.max(data_ex[ix, :, :])\n",
    "    sum_val = data_ex[ix, :, :].sum()\n",
    "# Only choose indices of sclices with pixel-value bigger than 0,\n",
    "    # i.e. where a signal is present:\n",
    "    if max_val > 0:\n",
    "        #print(ix)\n",
    "        indices.append(ix)\n",
    "        max_vals.append(max_val)\n",
    "        sum_vals.append(sum_val)\n",
    "        \n",
    "indices_pixel_vals = pd.DataFrame({'index_value': indices, 'maximum': max_vals, \n",
    "             'pixel_sum': sum_vals})\n",
    "\n",
    "indices_pixel_vals.head()\n"
   ]
  },
  {
   "cell_type": "markdown",
   "id": "769c9bbe-2d44-4787-89b1-4d5e2207156d",
   "metadata": {},
   "source": [
    "### Have a look at where the signal is the strongest:"
   ]
  },
  {
   "cell_type": "code",
   "execution_count": null,
   "id": "b17932d4-8345-42e8-b7c6-5ae7481b73b1",
   "metadata": {},
   "outputs": [],
   "source": [
    "indices_pixel_vals.plot('index_value', 'maximum')"
   ]
  },
  {
   "cell_type": "code",
   "execution_count": null,
   "id": "04152687-d2e5-46e6-9a33-e58a893dfafb",
   "metadata": {},
   "outputs": [],
   "source": [
    "# The signal appears for index-values of first dimension bigger than 250:\n",
    "sel_bools = indices_pixel_vals.index_value > 250\n",
    "indices_pixel_vals.loc[sel_bools]"
   ]
  },
  {
   "cell_type": "code",
   "execution_count": null,
   "id": "0660f43d-fd0c-4965-adb3-58e8cfb8742a",
   "metadata": {},
   "outputs": [],
   "source": [
    "sel_bools = indices_pixel_vals.maximum > 2\n",
    "selected_indices = indices_pixel_vals.loc[sel_bools]"
   ]
  },
  {
   "cell_type": "code",
   "execution_count": null,
   "id": "4cdd374e-cae8-4a30-b049-768758ccf8d9",
   "metadata": {},
   "outputs": [],
   "source": [
    "selected_indices.head()"
   ]
  },
  {
   "cell_type": "code",
   "execution_count": null,
   "id": "954d797d-dccd-4a8d-91e0-7044aeea8733",
   "metadata": {},
   "outputs": [],
   "source": [
    "selected_indices.tail()"
   ]
  },
  {
   "cell_type": "markdown",
   "id": "769f092e-2ebf-45db-af30-875969e49136",
   "metadata": {},
   "source": [
    "### Select a few indices, where pictures will show:"
   ]
  },
  {
   "cell_type": "code",
   "execution_count": null,
   "id": "54659c11-ce74-4188-a1ef-5e42ffe97af4",
   "metadata": {},
   "outputs": [],
   "source": [
    "indices_to_plot = list(np.arange(240, 440, 10))"
   ]
  },
  {
   "cell_type": "code",
   "execution_count": null,
   "id": "7f2bda81-75d0-4d1d-9759-f39b5cfce630",
   "metadata": {},
   "outputs": [],
   "source": [
    "np.max(data_ex[:, 270, :])"
   ]
  },
  {
   "cell_type": "code",
   "execution_count": null,
   "id": "ca6f4e3a-d173-4a80-8d50-143946d60a36",
   "metadata": {},
   "outputs": [],
   "source": [
    "for ix in indices_to_plot:\n",
    "    \n",
    "    #slice_0 = data_ex[ix, :, :]\n",
    "    slice_0 = data_ex[:, ix, :]\n",
    "    #rotated_img = ndimage.rotate(slice_0, 5*60)\n",
    "    print(ix)\n",
    "    # Plot the slice\n",
    "    plt.imshow(slice_0, cmap='gray', origin='lower')\n",
    "    plt.title('Example')\n",
    "    plt.show()"
   ]
  },
  {
   "cell_type": "markdown",
   "id": "4016b284-67c5-4f2c-899e-fa95ca82a6d0",
   "metadata": {},
   "source": [
    "Loop through the slices of the meniscus: "
   ]
  },
  {
   "cell_type": "code",
   "execution_count": null,
   "id": "4d3cc559-7681-464c-8d87-b8136eaea678",
   "metadata": {},
   "outputs": [],
   "source": [
    "for ix in range(267,287):\n",
    "    \n",
    "    #slice_0 = data_ex[ix, :, :]\n",
    "    slice_0 = data_ex[:, ix, :]\n",
    "    #rotated_img = ndimage.rotate(slice_0, 5*60)\n",
    "    print(ix)\n",
    "    # Plot the slice\n",
    "    plt.imshow(slice_0, cmap='gray', origin='lower')\n",
    "    plt.title('Example')\n",
    "    plt.show()"
   ]
  },
  {
   "cell_type": "markdown",
   "id": "a2d3778b-2152-4a95-af41-4c365873a38f",
   "metadata": {},
   "source": [
    "### Conclusion:"
   ]
  },
  {
   "cell_type": "markdown",
   "id": "83f7f00e-2a10-4a7c-b58d-7f34adab8ae0",
   "metadata": {},
   "source": [
    "For a first try, let's use images with indices between 270 and 285 along the first dimenstion."
   ]
  },
  {
   "cell_type": "code",
   "execution_count": null,
   "id": "31a063a4-8827-4923-82d3-a690266b67cb",
   "metadata": {},
   "outputs": [],
   "source": []
  },
  {
   "cell_type": "code",
   "execution_count": null,
   "id": "f4e8b2fc-fe33-4ac2-b9a5-9d7f498ab392",
   "metadata": {},
   "outputs": [],
   "source": []
  },
  {
   "cell_type": "code",
   "execution_count": null,
   "id": "55efdc20-46f0-4c52-9a9e-2d3bf41ecc52",
   "metadata": {},
   "outputs": [],
   "source": []
  },
  {
   "cell_type": "code",
   "execution_count": null,
   "id": "7548d772-13e7-4bda-a78b-979e2c5a5a46",
   "metadata": {},
   "outputs": [],
   "source": [
    "data_ex[:, 281, :]"
   ]
  },
  {
   "cell_type": "code",
   "execution_count": null,
   "id": "e7708d42-d20f-481f-921e-082dee0fd9cd",
   "metadata": {},
   "outputs": [],
   "source": [
    "np.unique(data_ex[:, 281, :], return_counts=True)"
   ]
  },
  {
   "cell_type": "code",
   "execution_count": null,
   "id": "baeebd01-a332-450b-b96b-7da393d2c078",
   "metadata": {},
   "outputs": [],
   "source": [
    "plt.imshow(data_ex[:, 281, :], cmap='gray')\n",
    "plt.title('Example')\n",
    "plt.show()"
   ]
  },
  {
   "cell_type": "code",
   "execution_count": null,
   "id": "83fa05a3-4a6f-4070-849d-d7678373fa6c",
   "metadata": {},
   "outputs": [],
   "source": [
    "example_slice = data_ex[:, 281, :].copy()"
   ]
  },
  {
   "cell_type": "code",
   "execution_count": null,
   "id": "5d7297d4-bac7-4e3b-bb09-80b087bd8f13",
   "metadata": {},
   "outputs": [],
   "source": [
    "np.unique(example_slice)"
   ]
  },
  {
   "cell_type": "code",
   "execution_count": null,
   "id": "bea0c05c-0cf7-4441-b07f-37e2ca6b6625",
   "metadata": {},
   "outputs": [],
   "source": [
    "plt.imshow(example_slice, cmap='gray')\n",
    "plt.title('Example')\n",
    "plt.show()"
   ]
  },
  {
   "cell_type": "code",
   "execution_count": null,
   "id": "88a5534d-5f0a-435e-bc0f-62a464582d8b",
   "metadata": {},
   "outputs": [],
   "source": [
    "example_slice_copy = example_slice.copy()\n",
    "np.unique(example_slice_copy)"
   ]
  },
  {
   "cell_type": "code",
   "execution_count": null,
   "id": "00dad673-c28f-4b19-97d5-fedd5d799ab1",
   "metadata": {},
   "outputs": [],
   "source": []
  },
  {
   "cell_type": "code",
   "execution_count": null,
   "id": "8b87d5bd-eefa-4886-82f0-53dac728c0be",
   "metadata": {},
   "outputs": [],
   "source": [
    "example_slice_copy[example_slice_copy==3] = 0"
   ]
  },
  {
   "cell_type": "code",
   "execution_count": null,
   "id": "aa59158b-de85-4970-b3c2-0a72dcae050b",
   "metadata": {},
   "outputs": [],
   "source": [
    "np.unique(example_slice_copy)"
   ]
  },
  {
   "cell_type": "code",
   "execution_count": null,
   "id": "84e826c5-5507-48fc-8137-97360181e248",
   "metadata": {},
   "outputs": [],
   "source": [
    "example_slice_copy[example_slice_copy==2] = 1"
   ]
  },
  {
   "cell_type": "code",
   "execution_count": null,
   "id": "dea23387-382c-4753-97fc-c32c93557b23",
   "metadata": {},
   "outputs": [],
   "source": [
    "np.unique(example_slice_copy)"
   ]
  },
  {
   "cell_type": "code",
   "execution_count": null,
   "id": "ece3927e-5992-4258-a57c-7850bd13111a",
   "metadata": {},
   "outputs": [],
   "source": [
    "plt.imshow(example_slice_copy, cmap='gray')\n",
    "plt.title('Example')\n",
    "plt.show()"
   ]
  },
  {
   "cell_type": "code",
   "execution_count": null,
   "id": "4539ba2d-1d9a-47f9-aefb-bc9c4ca3f498",
   "metadata": {},
   "outputs": [],
   "source": [
    "slice_train = example_slice_copy"
   ]
  },
  {
   "cell_type": "code",
   "execution_count": null,
   "id": "7a496877-e782-4e73-a7a5-21f11ca59b12",
   "metadata": {},
   "outputs": [],
   "source": []
  },
  {
   "cell_type": "code",
   "execution_count": null,
   "id": "3300978b-9dc9-4513-b81c-57e2e62c6905",
   "metadata": {},
   "outputs": [],
   "source": [
    "example_slice_copy2 = example_slice.copy()"
   ]
  },
  {
   "cell_type": "code",
   "execution_count": null,
   "id": "705e1877-38b7-4c71-929b-e8fb0a9db38d",
   "metadata": {},
   "outputs": [],
   "source": [
    "np.unique(example_slice_copy2)"
   ]
  },
  {
   "cell_type": "code",
   "execution_count": null,
   "id": "4ec7d82e-f69e-4fc0-8591-a60957f95ae3",
   "metadata": {},
   "outputs": [],
   "source": [
    "plt.imshow(example_slice_copy2, cmap='gray')\n",
    "plt.title('Example')\n",
    "plt.show()"
   ]
  },
  {
   "cell_type": "code",
   "execution_count": null,
   "id": "c3a246d6-2f75-4439-83e8-531492d7aded",
   "metadata": {},
   "outputs": [],
   "source": [
    "example_slice_copy2[example_slice_copy2!=3] = 0\n",
    "np.unique(example_slice_copy2)"
   ]
  },
  {
   "cell_type": "code",
   "execution_count": null,
   "id": "ebb9461d-f94a-45cf-b56c-e0316ea9aded",
   "metadata": {},
   "outputs": [],
   "source": [
    "example_slice_copy2[example_slice_copy2==3] = 1\n",
    "np.unique(example_slice_copy2)"
   ]
  },
  {
   "cell_type": "code",
   "execution_count": null,
   "id": "cc49d720-61a7-4497-b85e-0c20729094d7",
   "metadata": {},
   "outputs": [],
   "source": [
    "plt.imshow(example_slice_copy2, cmap='gray')\n",
    "plt.title('Example')\n",
    "plt.show()"
   ]
  },
  {
   "cell_type": "code",
   "execution_count": null,
   "id": "cb02d66f-bb0d-4054-89f9-dd5fb1e3aa50",
   "metadata": {},
   "outputs": [],
   "source": [
    "labels = example_slice_copy2"
   ]
  },
  {
   "cell_type": "code",
   "execution_count": null,
   "id": "0572f570-ba9c-42df-8860-57de1732e252",
   "metadata": {},
   "outputs": [],
   "source": []
  },
  {
   "cell_type": "code",
   "execution_count": null,
   "id": "d085c76f-08ff-4bdd-abd4-5d7be8b8e3d3",
   "metadata": {},
   "outputs": [],
   "source": []
  },
  {
   "cell_type": "code",
   "execution_count": null,
   "id": "26858d0a-81b7-426c-a5dd-e19a75fc311f",
   "metadata": {},
   "outputs": [],
   "source": [
    "example_slice_2 = data_ex[:, 280, :].copy()\n",
    "np.unique(example_slice_2)"
   ]
  },
  {
   "cell_type": "code",
   "execution_count": null,
   "id": "2719c512-cc3f-44f2-ba44-87e6ab5d2133",
   "metadata": {},
   "outputs": [],
   "source": [
    "example_slice_2[example_slice_2==3] = 0\n",
    "np.unique(example_slice_2)"
   ]
  },
  {
   "cell_type": "code",
   "execution_count": null,
   "id": "b0d774ab-09e9-4a5c-8449-0c9195484251",
   "metadata": {},
   "outputs": [],
   "source": [
    "example_slice_2[example_slice_2==2] = 1\n",
    "np.unique(example_slice_2)"
   ]
  },
  {
   "cell_type": "code",
   "execution_count": null,
   "id": "698c322f-7448-406f-acb9-a215e329b6f0",
   "metadata": {},
   "outputs": [],
   "source": [
    "plt.imshow(example_slice_2, cmap='gray')\n",
    "plt.title('Example')\n",
    "plt.show()"
   ]
  },
  {
   "cell_type": "code",
   "execution_count": null,
   "id": "b0a7f08c-7368-4ac2-848c-4bce446f41a5",
   "metadata": {},
   "outputs": [],
   "source": [
    "slice_test = example_slice_2"
   ]
  },
  {
   "cell_type": "code",
   "execution_count": null,
   "id": "64b51633-7129-442e-8e55-80b40dd13f41",
   "metadata": {},
   "outputs": [],
   "source": []
  },
  {
   "cell_type": "code",
   "execution_count": null,
   "id": "ef4de619-83c5-4b7b-8284-70c45af8ebca",
   "metadata": {},
   "outputs": [],
   "source": []
  },
  {
   "cell_type": "code",
   "execution_count": null,
   "id": "deed07df-3045-4ca6-bded-13b1f9b422b3",
   "metadata": {},
   "outputs": [],
   "source": []
  },
  {
   "cell_type": "markdown",
   "id": "718a008f-f437-4176-8d0f-1ac24465a88e",
   "metadata": {},
   "source": [
    "input_image_stacked = np.expand_dims(img, axis=-1)\n",
    "#as it works only with 3 input channels: stack nuclear channel\n",
    "stacked_img = np.stack((img_scaled,)*3, axis=2)\n",
    "stacked_img = np.squeeze(stacked_img)\n",
    "stacked_img = stacked_img.astype(np.float32)"
   ]
  },
  {
   "cell_type": "markdown",
   "id": "c506ac5d",
   "metadata": {},
   "source": [
    "## Load some image data as `np.array`\n",
    "Only works with 3-channel data. If it's grayscale data, just stack the image 3 times using the function `grayscale_to_rgb()`."
   ]
  },
  {
   "cell_type": "code",
   "execution_count": null,
   "id": "09d5bbcb",
   "metadata": {},
   "outputs": [],
   "source": [
    "def grayscale_to_rgb(grayscale_img):\n",
    "    img = np.expand_dims(grayscale_img, axis=-1)\n",
    "    stacked_img = np.stack((img,)*3, axis=2)\n",
    "    stacked_img = np.squeeze(stacked_img)\n",
    "    return stacked_img"
   ]
  },
  {
   "cell_type": "code",
   "execution_count": null,
   "id": "fab6b2a2-1f8e-4814-9f26-4c20318d1fdb",
   "metadata": {},
   "outputs": [],
   "source": [
    "img = grayscale_to_rgb(slice_train)\n",
    "#img = grayscale_to_rgb(slice_train)\n",
    "#img = grayscale_to_rgb(slice_test_t)"
   ]
  },
  {
   "cell_type": "code",
   "execution_count": null,
   "id": "3d536a67-dc01-4535-9914-283f2268feac",
   "metadata": {},
   "outputs": [],
   "source": []
  },
  {
   "cell_type": "markdown",
   "id": "972ccc49-ba9f-481d-8c60-d4a132de9384",
   "metadata": {},
   "source": [
    "import urllib.request\n",
    "from PIL import Image\n",
    "urllib.request.urlretrieve('https://upload.wikimedia.org/wikipedia/commons/5/58/6-13_snake.jpg', '6-13_snake.jpg')\n",
    "img_pil = Image.open('6-13_snake.jpg')\n",
    "img = np.array(img_pil)\n",
    "plt.imshow(img)\n",
    "plt.show()"
   ]
  },
  {
   "cell_type": "code",
   "execution_count": null,
   "id": "2176894f-0252-4c0a-b47e-291593eba4c1",
   "metadata": {},
   "outputs": [],
   "source": [
    "img.shape"
   ]
  },
  {
   "cell_type": "code",
   "execution_count": null,
   "id": "1495af25-5a0c-430e-9c25-5dbb76fd0fa8",
   "metadata": {},
   "outputs": [],
   "source": [
    "slice_train.shape"
   ]
  },
  {
   "cell_type": "markdown",
   "id": "a0a9505f",
   "metadata": {},
   "source": [
    " ## Extract the features using convolutional filters extracted from a VGG16"
   ]
  },
  {
   "cell_type": "code",
   "execution_count": null,
   "id": "6005b18f",
   "metadata": {},
   "outputs": [],
   "source": [
    "#create the classifier\n",
    "clf = RandomForestClassifier(random_state=0)\n",
    "\n",
    "# create feature extractor and apply \n",
    "shapes = []\n",
    "for i in [1,2,4]:\n",
    "    shapes.append((int(img.shape[0]/i),(int(img.shape[1]/i))))\n",
    "print(\"Image input scales:\")\n",
    "print(shapes)\n",
    "models = init_VGG16_pyramid(shapes)\n",
    "features = fd_VGG16_pyramid(img,models,shapes)\n",
    "# plot example filter response\n",
    "plt.imshow(features[:,:,100])\n",
    "plt.show()"
   ]
  },
  {
   "cell_type": "code",
   "execution_count": null,
   "id": "20839008-eedc-4ffb-9757-76efee0b0e45",
   "metadata": {},
   "outputs": [],
   "source": [
    "plt.imshow(features[:,:,120])\n",
    "plt.show()"
   ]
  },
  {
   "cell_type": "code",
   "execution_count": null,
   "id": "3e7a046b-5fdc-43c8-abe7-ba9675d5c4b9",
   "metadata": {},
   "outputs": [],
   "source": [
    "features.shape"
   ]
  },
  {
   "cell_type": "code",
   "execution_count": null,
   "id": "5e1d80db-3450-4879-92c5-6e9a91c5360e",
   "metadata": {},
   "outputs": [],
   "source": [
    "labels.shape"
   ]
  },
  {
   "cell_type": "code",
   "execution_count": null,
   "id": "28b05486-3ad4-49a8-bb57-7c95cb15b195",
   "metadata": {},
   "outputs": [],
   "source": [
    "labels"
   ]
  },
  {
   "cell_type": "code",
   "execution_count": null,
   "id": "e5cde7b0-d185-426e-9438-03e4eca113a6",
   "metadata": {},
   "outputs": [],
   "source": []
  },
  {
   "cell_type": "code",
   "execution_count": null,
   "id": "54350955-3f8a-41b4-890e-c188afa429bd",
   "metadata": {},
   "outputs": [],
   "source": [
    "# Flatten the image (combine first two dimensions: 560 * 484 = 271,040 pixels)\n",
    "X = features.reshape(-1, 192)  # Shape: (271040, 192)"
   ]
  },
  {
   "cell_type": "code",
   "execution_count": null,
   "id": "6463df66-19f5-4659-843d-1377a31403ba",
   "metadata": {},
   "outputs": [],
   "source": [
    "# Flatten the labels\n",
    "y = labels.ravel()  # Shape: (271040,)"
   ]
  },
  {
   "cell_type": "code",
   "execution_count": null,
   "id": "07c57791-ae97-4f9e-bae2-3cd05fe8892b",
   "metadata": {},
   "outputs": [],
   "source": [
    "X.shape"
   ]
  },
  {
   "cell_type": "code",
   "execution_count": null,
   "id": "99777de9-5f80-427b-abc4-e4196727ba3f",
   "metadata": {},
   "outputs": [],
   "source": [
    "y.shape"
   ]
  },
  {
   "cell_type": "code",
   "execution_count": null,
   "id": "d266326c-3adf-4384-a5c8-484f63ad6ebe",
   "metadata": {},
   "outputs": [],
   "source": [
    "clf.fit(X, y)"
   ]
  },
  {
   "cell_type": "code",
   "execution_count": null,
   "id": "074cc270-dc1d-45e6-91f3-11a68983afa8",
   "metadata": {},
   "outputs": [],
   "source": [
    "predictions = clf.predict(X)"
   ]
  },
  {
   "cell_type": "code",
   "execution_count": null,
   "id": "b4fa534b-d824-42ea-9684-baa0b99d4407",
   "metadata": {},
   "outputs": [],
   "source": [
    "# Assuming `predictions` is the result from your classifier, and it's a 1D array\n",
    "# of shape (271040,), corresponding to (560 * 484)\n",
    "predictions_reshaped = predictions.reshape(560, 484)\n",
    "\n",
    "# Plot the reshaped predictions\n",
    "plt.imshow(predictions_reshaped, cmap='gray')\n",
    "plt.title('Predicted Segmentation')\n",
    "plt.colorbar()  # Optional: Add a colorbar\n",
    "plt.show()"
   ]
  },
  {
   "cell_type": "code",
   "execution_count": null,
   "id": "b11f754f-cf0c-44fa-a743-a64c8f5bb4d6",
   "metadata": {},
   "outputs": [],
   "source": []
  },
  {
   "cell_type": "code",
   "execution_count": null,
   "id": "d93f556c-bd5c-4970-bbf0-ee3445c6796c",
   "metadata": {},
   "outputs": [],
   "source": [
    "slice_test"
   ]
  },
  {
   "cell_type": "code",
   "execution_count": null,
   "id": "cefb6ec8-e562-4ffa-9b9a-6ca6b9bebe6e",
   "metadata": {},
   "outputs": [],
   "source": [
    "plt.imshow(slice_test, cmap='gray')\n",
    "plt.colorbar()  # Optional: Add a colorbar\n",
    "plt.show()"
   ]
  },
  {
   "cell_type": "code",
   "execution_count": null,
   "id": "c6aff679-a51d-4de1-876e-8f028d7bc3d0",
   "metadata": {},
   "outputs": [],
   "source": [
    "img_test = grayscale_to_rgb(slice_test)"
   ]
  },
  {
   "cell_type": "code",
   "execution_count": null,
   "id": "04f2d217-a524-4948-a289-6e7c47cc1d42",
   "metadata": {},
   "outputs": [],
   "source": [
    "# create feature extractor and apply \n",
    "shapes = []\n",
    "for i in [1,2,4]:\n",
    "    shapes.append((int(img_test.shape[0]/i),(int(img_test.shape[1]/i))))\n",
    "print(\"Image input scales:\")\n",
    "print(shapes)\n",
    "models = init_VGG16_pyramid(shapes)\n",
    "features_test = fd_VGG16_pyramid(img_test,models,shapes)\n",
    "# plot example filter response\n",
    "plt.imshow(features_test[:,:,100])\n",
    "plt.show()"
   ]
  },
  {
   "cell_type": "code",
   "execution_count": null,
   "id": "cd136bd6-4376-40aa-b35c-fb9402bf6f49",
   "metadata": {},
   "outputs": [],
   "source": [
    "features_test.shape"
   ]
  },
  {
   "cell_type": "code",
   "execution_count": null,
   "id": "ead8a4ff-c762-403f-b68c-4d9fd276a7d4",
   "metadata": {},
   "outputs": [],
   "source": [
    "# Flatten the image (combine first two dimensions: 560 * 484 = 271,040 pixels)\n",
    "X_test = features_test.reshape(-1, 192)  # Shape: (271040, 192)"
   ]
  },
  {
   "cell_type": "code",
   "execution_count": null,
   "id": "1a0546c1-2b81-4498-9f31-27c242f25e0e",
   "metadata": {},
   "outputs": [],
   "source": [
    "predictions = clf.predict(X_test)"
   ]
  },
  {
   "cell_type": "code",
   "execution_count": null,
   "id": "efa99deb-a19a-4ca6-a104-196eab6a73d9",
   "metadata": {},
   "outputs": [],
   "source": [
    "# Assuming `predictions` is the result from your classifier, and it's a 1D array\n",
    "# of shape (271040,), corresponding to (560 * 484)\n",
    "predictions_reshaped = predictions.reshape(560, 484)\n",
    "\n",
    "# Plot the reshaped predictions\n",
    "plt.imshow(predictions_reshaped, cmap='gray')\n",
    "plt.title('Predicted Segmentation')\n",
    "plt.colorbar()  # Optional: Add a colorbar\n",
    "plt.show()"
   ]
  },
  {
   "cell_type": "code",
   "execution_count": null,
   "id": "a56a4a1a-3b28-434d-ac9c-158bad6052f6",
   "metadata": {},
   "outputs": [],
   "source": []
  },
  {
   "cell_type": "code",
   "execution_count": null,
   "id": "88847c97-4060-49f1-9aec-2cb8c488589b",
   "metadata": {},
   "outputs": [],
   "source": []
  },
  {
   "cell_type": "code",
   "execution_count": null,
   "id": "eaba2c2f-c401-491f-aa01-92040941326b",
   "metadata": {},
   "outputs": [],
   "source": []
  },
  {
   "cell_type": "code",
   "execution_count": null,
   "id": "0398cd35-e571-4b2e-914d-f5b82510d427",
   "metadata": {},
   "outputs": [],
   "source": []
  },
  {
   "cell_type": "markdown",
   "id": "fc6d812a",
   "metadata": {},
   "source": [
    "## Annotate some pixels and train the classifier!\n",
    "Labels:  \n",
    "0 : Not annotated (transparent)  \n",
    "1 : Foreground (yellow)  \n",
    "2 : Background (red)  "
   ]
  },
  {
   "cell_type": "code",
   "execution_count": null,
   "id": "6b40e722",
   "metadata": {},
   "outputs": [],
   "source": [
    "viewer = napari.view_image(img, name=\"My Image\")\n",
    "viewer.window.add_dock_widget(clf_widget)\n",
    "prediction_layer = viewer.add_image(np.zeros_like(img[:,:,0]),colormap='PiYG',contrast_limits=(0, 1))\n",
    "prediction_layer.visible = False\n",
    "prediction_layer.name = \"Classifier prediction\"\n",
    "labels_layer = viewer.add_labels(np.zeros_like(img[:,:,0]).astype(int), seed = 0)\n",
    "napari.run()"
   ]
  },
  {
   "cell_type": "code",
   "execution_count": null,
   "id": "cd799042",
   "metadata": {},
   "outputs": [],
   "source": [
    "# plot the final prediction image\n",
    "plt.imshow(prediction_layer.data)"
   ]
  },
  {
   "cell_type": "code",
   "execution_count": null,
   "id": "615ff78a",
   "metadata": {},
   "outputs": [],
   "source": [
    "#plot the drawn annotations\n",
    "plt.imshow(labels_layer.data)"
   ]
  },
  {
   "cell_type": "markdown",
   "id": "39217e94",
   "metadata": {},
   "source": [
    "## In depth description of classifier\n",
    "### Feature extraction using VGG16 transfer learning\n",
    "VGG16 is an is a convolutional neural network for image recognition proposed by Simonyan and Zisserman. A model trained on the ImageNet Dataset is downloaded trough Keras (TensorFlow backend). Training is disabled and the VGG16 network is cut off before the first Pooling layer. In consequence the output layer preserves the spatial resolution of the input image, resulting in a feature vector of length 64 for each pixel. As the network has been trained on the task of general object detection on ImageNet, the filters in the first layers capture low level features such as edges or textures that can be used for characterising objects such as nuclei. The relatively small filter size (3\\*3px) VGG16 introduced (previous state of the art was 11\\*11px and 7\\*7px), and the discard-\n",
    "ing of the deeper levels means that only the immediate neighbourhood is taken into account when calculating the features for each pixel. This leads to a noisy prediction, and loss of information of larger scale features. We\n",
    "found that the noisy prediction and loss of information of larger scale features can be counteracted by inputting\n",
    "the image at multiple scales, constructing a *featurized image pyramid*.\n",
    "### Construction of a featurized image pyramid\n",
    "CNNs using different scales/resolutions of the input image are used in popular segmentation models like UNets, and across different domains (e.g. self driving). Although there exist faster approaches of providing differently scaled data to a neural networks, (e.g.by calculating a *pyramidal feature hierarchy* or by using *Feature Pyramid Networks*, see Lin et al.for an overview), these strategies are not applicable with the transfer learning approach relied on here. Four scalings (1/1, 1/2, 1/4, 1/8) are applied to the input image. The scaled images are then passed separately trough the modified VGG16 model. The outputs are scaled up to match the original spatial  resolution and then concatenated, resulting in 4\\*64 = 256 features per pixel. No smaller scales were used as adding them did not improve segmentation results, they should however be considered if working with higher resolution images or different microscope optics (e.g. magnification over 40x)."
   ]
  },
  {
   "cell_type": "code",
   "execution_count": null,
   "id": "7af4b832-a403-41cb-9f85-f39e8f3ff648",
   "metadata": {},
   "outputs": [],
   "source": []
  }
 ],
 "metadata": {
  "kernelspec": {
   "display_name": "Python 3 (ipykernel)",
   "language": "python",
   "name": "python3"
  },
  "language_info": {
   "codemirror_mode": {
    "name": "ipython",
    "version": 3
   },
   "file_extension": ".py",
   "mimetype": "text/x-python",
   "name": "python",
   "nbconvert_exporter": "python",
   "pygments_lexer": "ipython3",
   "version": "3.12.5"
  }
 },
 "nbformat": 4,
 "nbformat_minor": 5
}
