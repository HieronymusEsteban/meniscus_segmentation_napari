{
 "cells": [
  {
   "cell_type": "code",
   "execution_count": null,
   "id": "d5671e92-8cda-490b-8269-42db918b8cd2",
   "metadata": {},
   "outputs": [],
   "source": [
    "from aicsimageio import AICSImage\n",
    "import os\n",
    "from pydicom import dcmread\n",
    "import imageio\n",
    "import pandas as pd\n",
    "import tifffile\n",
    "from pathlib import Path\n",
    "import numpy as np\n",
    "import matplotlib.pyplot as plt"
   ]
  },
  {
   "cell_type": "markdown",
   "id": "d5b53f58-046c-4f47-89a5-3648b6d51713",
   "metadata": {},
   "source": [
    "# Load 3D Dicom Data and Save them as Tiff"
   ]
  },
  {
   "cell_type": "markdown",
   "id": "673cf9ec-52f5-438e-8356-60bcc30ccd43",
   "metadata": {},
   "source": [
    "#### Loading 2D dicom image files that are part of a 3D structure and save them as a 3D tiff-file\n",
    "The dicom 2D files need to be loaded in the correct order (according to the attribute 'SliceLocation'), put into a 3D numpy array, and then saved as tiff. This tiff file can then be loaded into a napari viewer for annotation."
   ]
  },
  {
   "cell_type": "code",
   "execution_count": null,
   "id": "87a08bf7-7253-4b56-8cdd-afc198a4b570",
   "metadata": {},
   "outputs": [],
   "source": []
  },
  {
   "cell_type": "code",
   "execution_count": null,
   "id": "55f3830f-2f82-4435-aafd-c1e2c6584f3b",
   "metadata": {},
   "outputs": [],
   "source": [
    "#path_to_file = Path('/Users/stephanehess/Documents/CAS_AML/hundeknie_data/Segmentation_sheep_dog_Hess/dog_1_DIRU_2022_04_dog_03/PAT_0002/STD_0000/SER_0005/OBJ_0001')"
   ]
  },
  {
   "cell_type": "markdown",
   "id": "455d56aa-6801-4256-a5f6-4d9ffa9426ce",
   "metadata": {},
   "source": [
    "### Define path to load file: "
   ]
  },
  {
   "cell_type": "code",
   "execution_count": null,
   "id": "4d3aeed2-0d96-4643-9b15-868930efa598",
   "metadata": {},
   "outputs": [],
   "source": [
    "root_path = Path('/Users/stephanehess/Documents/CAS_AML/hundeknie_data/Segmentation_sheep_dog_Hess')"
   ]
  },
  {
   "cell_type": "code",
   "execution_count": null,
   "id": "b787f3b1-e0db-4aa9-bcaf-788d33cfef9e",
   "metadata": {},
   "outputs": [],
   "source": [
    "root_path"
   ]
  },
  {
   "cell_type": "code",
   "execution_count": null,
   "id": "99f7e6cb-db05-4c7d-8f4c-81f2e2de273f",
   "metadata": {},
   "outputs": [],
   "source": [
    "dog_3_path = root_path / 'dog_1_DIRU_2022_04_dog_03' "
   ]
  },
  {
   "cell_type": "code",
   "execution_count": null,
   "id": "88adc621-b81a-477e-960c-c5e4b177e3a6",
   "metadata": {},
   "outputs": [],
   "source": [
    "dog_4_path = root_path / 'dog_4'"
   ]
  },
  {
   "cell_type": "code",
   "execution_count": null,
   "id": "8c9270ca-c604-4ef8-9c0c-90fbbebaa480",
   "metadata": {},
   "outputs": [],
   "source": [
    "#path_to_file = dog_3_path / 'PAT_0002/STD_0000/SER_0005/OBJ_0001'\n",
    "path_to_files = dog_4_path / 'NC/3DT2/OBJ_0001'"
   ]
  },
  {
   "cell_type": "code",
   "execution_count": null,
   "id": "8228a75e-3632-4a76-ac9b-f9fda613cdc7",
   "metadata": {},
   "outputs": [],
   "source": []
  },
  {
   "cell_type": "markdown",
   "id": "a6397f3e-d9ce-43f7-934c-cee2246c036f",
   "metadata": {},
   "source": [
    "### Move to folder where the files are: "
   ]
  },
  {
   "cell_type": "code",
   "execution_count": null,
   "id": "d51829ac-3baf-45e9-b65c-570073ead364",
   "metadata": {},
   "outputs": [],
   "source": [
    "os.chdir(path_to_files)"
   ]
  },
  {
   "cell_type": "markdown",
   "id": "b146385c-03b2-47be-a79d-2920338bdae6",
   "metadata": {},
   "source": [
    "### Load a file as an example:"
   ]
  },
  {
   "cell_type": "code",
   "execution_count": null,
   "id": "ff77fe13-d760-4025-84e3-9f30e075eb0c",
   "metadata": {},
   "outputs": [],
   "source": [
    "file = dcmread('IM_0360')"
   ]
  },
  {
   "cell_type": "code",
   "execution_count": null,
   "id": "5629c46f-cb37-43bf-bf15-aad926ae1ccb",
   "metadata": {},
   "outputs": [],
   "source": [
    "image_data = file.PixelData\n",
    "print(type(image_data))"
   ]
  },
  {
   "cell_type": "markdown",
   "id": "da1d352d-364c-4cf4-94f5-db0dfa751574",
   "metadata": {},
   "source": [
    "The image_data object has an attribute 'pixel_array' that contains the actual data\n",
    "as a numpy array:"
   ]
  },
  {
   "cell_type": "code",
   "execution_count": null,
   "id": "a4f0d1f6-dd71-4cd2-9959-cc1f51ff8e3e",
   "metadata": {},
   "outputs": [],
   "source": [
    "image_data = file.pixel_array\n",
    "image_data"
   ]
  },
  {
   "cell_type": "code",
   "execution_count": null,
   "id": "ef0d5c91-5849-4d5d-a62c-69a389525eb9",
   "metadata": {},
   "outputs": [],
   "source": [
    "image_data.shape"
   ]
  },
  {
   "cell_type": "code",
   "execution_count": null,
   "id": "4b9bcf46-e7bb-4114-867a-43059c8dd871",
   "metadata": {},
   "outputs": [],
   "source": [
    "type(image_data)"
   ]
  },
  {
   "cell_type": "code",
   "execution_count": null,
   "id": "bb2d759f-2959-4e03-a2bf-f7b4a6b2df76",
   "metadata": {},
   "outputs": [],
   "source": [
    "os.getcwd()"
   ]
  },
  {
   "cell_type": "markdown",
   "id": "cc2eb2b1-c2f5-41c1-99bc-e20645a2acc0",
   "metadata": {},
   "source": [
    "### Get a list of all dicom files in the folder:"
   ]
  },
  {
   "cell_type": "code",
   "execution_count": null,
   "id": "bbe64a88-879c-4d65-b290-11b39ba93026",
   "metadata": {},
   "outputs": [],
   "source": [
    "files = os.listdir()\n",
    "files[0:7]"
   ]
  },
  {
   "cell_type": "markdown",
   "id": "9f1cf0d6-e7cd-47f2-83aa-d518c7159254",
   "metadata": {},
   "source": [
    "The files are in random order, however, sorting by file name will not suffice."
   ]
  },
  {
   "cell_type": "code",
   "execution_count": null,
   "id": "849040c1-8d5a-4563-9172-8c06db313792",
   "metadata": {},
   "outputs": [],
   "source": [
    "files.sort()"
   ]
  },
  {
   "cell_type": "code",
   "execution_count": null,
   "id": "7f7dd189-371e-4a40-be2d-b9ac41503bdc",
   "metadata": {},
   "outputs": [],
   "source": [
    "files"
   ]
  },
  {
   "cell_type": "markdown",
   "id": "e817cf43-f49e-4f3a-b1a2-6488c329e3b0",
   "metadata": {},
   "source": [
    "### Select all files with a SliceLocation and extract data and SliceLocation:"
   ]
  },
  {
   "cell_type": "code",
   "execution_count": null,
   "id": "6aa7ac81-0833-4893-8f5d-ac83feda630b",
   "metadata": {},
   "outputs": [],
   "source": [
    "# List to put in the numpy array data from each file:\n",
    "image_list = []\n",
    "# List to put in the SliceLocation from each file: \n",
    "slice_num_list = []\n",
    "# Counter to keep track of how many files were skipped \n",
    "# because they did not have a SliceLocation:\n",
    "skipcount = 0\n",
    "# Loop through all the files:\n",
    "for file in files:\n",
    "    #print(file)\n",
    "    # Load the file:\n",
    "    image_data = dcmread(file)\n",
    "    # If the file has an attribute SliceLocation ...\n",
    "    if hasattr(image_data, 'SliceLocation'):\n",
    "        \n",
    "        # Append the SliceLocation to the respective list: \n",
    "        slice_num_list.append(image_data.SliceLocation)\n",
    "        # Append the image data to the respective list: \n",
    "        image_2d = image_data.pixel_array\n",
    "        image_list.append(image_2d)\n",
    "    # If no attribute SliceLocation count: \n",
    "    else:\n",
    "        skipcount = skipcount + 1"
   ]
  },
  {
   "cell_type": "markdown",
   "id": "cca99767-b189-48d2-8280-fe3a3ee9e7a9",
   "metadata": {},
   "source": [
    "Check how many slices did not have an attribute SliceLocation:"
   ]
  },
  {
   "cell_type": "code",
   "execution_count": null,
   "id": "5bf79394-bf90-45b8-aeb3-56b279deae4f",
   "metadata": {},
   "outputs": [],
   "source": [
    "skipcount"
   ]
  },
  {
   "cell_type": "markdown",
   "id": "8af14c8c-aa2f-48be-8a02-550504ff07f1",
   "metadata": {},
   "source": [
    "### Put slice location (SliceLocation) and the data in a dataframe and then sort the rows by slice numbers:"
   ]
  },
  {
   "cell_type": "code",
   "execution_count": null,
   "id": "8a312187-6672-49ef-9754-768fa6f74dc5",
   "metadata": {},
   "outputs": [],
   "source": [
    "image_slices = pd.DataFrame({'slice_number': slice_num_list, 'image_slice':image_list})\n",
    "image_slices.head"
   ]
  },
  {
   "cell_type": "code",
   "execution_count": null,
   "id": "21dac17a-22c6-48f0-9c0b-46e46dbc3d08",
   "metadata": {},
   "outputs": [],
   "source": [
    "image_slices.sort_values(by='slice_number', axis=0, inplace=True)"
   ]
  },
  {
   "cell_type": "markdown",
   "id": "35dae39f-b10e-4403-89c3-1904c57fc70f",
   "metadata": {},
   "source": [
    "### Check if rows are ordered by slice location:"
   ]
  },
  {
   "cell_type": "code",
   "execution_count": null,
   "id": "069af428-95c6-41e8-ba78-6ebe83ffdb83",
   "metadata": {},
   "outputs": [],
   "source": [
    "image_slices.head()"
   ]
  },
  {
   "cell_type": "markdown",
   "id": "45024ab4-be8b-4873-b909-21645f0b2225",
   "metadata": {},
   "source": [
    "### Extract the data (image slices) and put them back into a numpy array:"
   ]
  },
  {
   "cell_type": "code",
   "execution_count": null,
   "id": "1c5eed65-c930-49fa-ba98-1eedfb5ffb8f",
   "metadata": {},
   "outputs": [],
   "source": [
    "image_slices = list(image_slices.image_slice)"
   ]
  },
  {
   "cell_type": "code",
   "execution_count": null,
   "id": "82bf781b-912a-43a2-ae54-e34f1b988f63",
   "metadata": {},
   "outputs": [],
   "source": [
    "image_3d = np.stack(image_slices, axis=-1)"
   ]
  },
  {
   "cell_type": "code",
   "execution_count": null,
   "id": "e8f83623-bd52-4e8d-9a85-b90726fde5b7",
   "metadata": {},
   "outputs": [],
   "source": [
    "type(image_3d)"
   ]
  },
  {
   "cell_type": "code",
   "execution_count": null,
   "id": "5705a69a-a929-4e80-ac68-58c727d2d909",
   "metadata": {},
   "outputs": [],
   "source": [
    "image_3d.shape"
   ]
  },
  {
   "cell_type": "markdown",
   "id": "1f0a1032-8abf-401b-9523-84cc2c94f40e",
   "metadata": {},
   "source": [
    "### Loop through the slices and plot them to check if they are arranged according to a 3D structure that makes sense:"
   ]
  },
  {
   "cell_type": "code",
   "execution_count": null,
   "id": "2f0e02cb-c6d5-4768-85c9-28e7d6afe858",
   "metadata": {},
   "outputs": [],
   "source": [
    "l2 = list(np.arange(20, 480, 20))"
   ]
  },
  {
   "cell_type": "code",
   "execution_count": null,
   "id": "232b0cb7-9a8e-45ea-a461-34c3a1e5d157",
   "metadata": {},
   "outputs": [],
   "source": [
    "n_rows = 12\n",
    "images_per_row = 2\n",
    "fig, axs = plt.subplots(nrows=n_rows, ncols=images_per_row, figsize=(8, n_rows * 3))\n",
    "axs = axs.flatten()\n",
    "#for index_count, index_image in enumerate(range(330, 380)):\n",
    "for index_count, index_image in enumerate(l2):\n",
    "    print(index_image)\n",
    "    axs[index_count].imshow(image_3d[:,:,index_image])"
   ]
  },
  {
   "cell_type": "markdown",
   "id": "94a18c7c-f387-4336-bfce-d5ca2d9b7ca5",
   "metadata": {},
   "source": [
    "### Change to the destination folder and save the 3D data as tiff file:"
   ]
  },
  {
   "cell_type": "code",
   "execution_count": null,
   "id": "a293778f-ffc8-4585-8f56-44a54480f17d",
   "metadata": {},
   "outputs": [],
   "source": [
    "os.getcwd()"
   ]
  },
  {
   "cell_type": "code",
   "execution_count": null,
   "id": "2a2b67d9-98e7-46d9-98c2-d9867664324a",
   "metadata": {},
   "outputs": [],
   "source": [
    "destination_path = root_path / 'dog_4_tiff'"
   ]
  },
  {
   "cell_type": "code",
   "execution_count": null,
   "id": "b54f0878-3ce8-4718-9092-9ba44b0b78a3",
   "metadata": {},
   "outputs": [],
   "source": [
    "os.chdir(destination_path)"
   ]
  },
  {
   "cell_type": "code",
   "execution_count": null,
   "id": "37248428-1c01-4750-bf63-05396535e20a",
   "metadata": {},
   "outputs": [],
   "source": [
    "os.getcwd()"
   ]
  },
  {
   "cell_type": "code",
   "execution_count": null,
   "id": "db6ea7d9-2d19-44c2-8231-e8878fcd5a5a",
   "metadata": {},
   "outputs": [],
   "source": [
    "tifffile.imwrite('image.tiff', image_3d)"
   ]
  },
  {
   "cell_type": "code",
   "execution_count": null,
   "id": "d89eb5f9-0230-4410-9b03-6913bfedcd63",
   "metadata": {},
   "outputs": [],
   "source": []
  },
  {
   "cell_type": "markdown",
   "id": "6714b9b5-e6ec-4f4d-8070-e3680f8604c1",
   "metadata": {},
   "source": [
    "### Open napari and drag the tiff image into it to view the 3D structure:"
   ]
  },
  {
   "cell_type": "code",
   "execution_count": null,
   "id": "41746403-02b2-4f43-8327-01891f1f3b02",
   "metadata": {},
   "outputs": [],
   "source": [
    "import napari"
   ]
  },
  {
   "cell_type": "code",
   "execution_count": null,
   "id": "8ae3d994-d94a-4d47-8c80-61f23578e786",
   "metadata": {},
   "outputs": [],
   "source": [
    "viewer = napari.Viewer()"
   ]
  },
  {
   "cell_type": "code",
   "execution_count": null,
   "id": "0088db67-36ec-42c3-b540-ad01ea411906",
   "metadata": {},
   "outputs": [],
   "source": []
  },
  {
   "cell_type": "code",
   "execution_count": null,
   "id": "c740e21e-b662-40d6-bfec-82ea6e46dea8",
   "metadata": {},
   "outputs": [],
   "source": []
  },
  {
   "cell_type": "code",
   "execution_count": null,
   "id": "e704bf8d-87bf-4446-991c-efd1f3a63cff",
   "metadata": {},
   "outputs": [],
   "source": []
  },
  {
   "cell_type": "markdown",
   "id": "dfd60487-9386-4c31-897b-ca8caa42a1a2",
   "metadata": {},
   "source": [
    "### How to annotate with Napari and segment anything:"
   ]
  },
  {
   "cell_type": "markdown",
   "id": "454d7d58-35e5-4222-8278-d33528387e2f",
   "metadata": {},
   "source": [
    "plugins -> segment -> anything 2d annotator\n",
    "compute embeddings"
   ]
  },
  {
   "cell_type": "markdown",
   "id": "9c69c0cb-e71b-4fb2-81c7-8b3da2cc2a51",
   "metadata": {},
   "source": [
    "prompt"
   ]
  },
  {
   "cell_type": "markdown",
   "id": "2d732080-927c-43b5-a964-36b62cb35a58",
   "metadata": {},
   "source": [
    "prompt point"
   ]
  },
  {
   "cell_type": "markdown",
   "id": "abeaf66b-2fc6-4e98-b5f8-ef40bff982e3",
   "metadata": {},
   "source": [
    "segment object"
   ]
  },
  {
   "cell_type": "markdown",
   "id": "fba474bd-c5c9-4150-856c-585eaa447ebf",
   "metadata": {},
   "source": [
    "image_1slice, gray"
   ]
  },
  {
   "cell_type": "code",
   "execution_count": null,
   "id": "470c3391-7f34-48bc-9558-18a25282eb36",
   "metadata": {},
   "outputs": [],
   "source": []
  }
 ],
 "metadata": {
  "kernelspec": {
   "display_name": "Python 3 (ipykernel)",
   "language": "python",
   "name": "python3"
  },
  "language_info": {
   "codemirror_mode": {
    "name": "ipython",
    "version": 3
   },
   "file_extension": ".py",
   "mimetype": "text/x-python",
   "name": "python",
   "nbconvert_exporter": "python",
   "pygments_lexer": "ipython3",
   "version": "3.12.5"
  }
 },
 "nbformat": 4,
 "nbformat_minor": 5
}
